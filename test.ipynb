{
 "cells": [
  {
   "cell_type": "code",
   "execution_count": 1,
   "metadata": {},
   "outputs": [],
   "source": [
    "import requests\n",
    "from bs4 import BeautifulSoup\n",
    "\n",
    "# 目标URL\n",
    "url = 'https://buff.163.com/market/goods?game=csgo#tab=selling&page_num=1'\n",
    "\n",
    "# 发送请求并获取HTML内容\n",
    "response = requests.get(url)\n",
    "html = response.content\n",
    "\n",
    "# 解析HTML内容，提取商品列表信息\n",
    "soup = BeautifulSoup(html, 'html.parser')\n",
    "items = soup.find_all('div', {'class': 'item'})\n",
    "\n",
    "# 遍历商品列表，查找标错价格的物品\n",
    "for item in items:\n",
    "    # 商品名称\n",
    "    name = item.find('a', {'class': 'item-name-text'}).text.strip()\n",
    "    # 市场价\n",
    "    market_price = float(item.find('span', {'class': 'market-price'}).text.split()[0])\n",
    "    # 现售价\n",
    "    sell_price = float(item.find('span', {'class': 'sell-price'}).text.split()[0])\n",
    "\n",
    "    # 判断是否标错价格\n",
    "    if sell_price < 0.9 * market_price:\n",
    "        print(f'发现标错价格物品：{name}，市场价为{market_price:.2f}元，现售价为{sell_price:.2f}元')\n"
   ]
  }
 ],
 "metadata": {
  "kernelspec": {
   "display_name": "Python 3",
   "language": "python",
   "name": "python3"
  },
  "language_info": {
   "codemirror_mode": {
    "name": "ipython",
    "version": 3
   },
   "file_extension": ".py",
   "mimetype": "text/x-python",
   "name": "python",
   "nbconvert_exporter": "python",
   "pygments_lexer": "ipython3",
   "version": "3.10.7"
  },
  "orig_nbformat": 4
 },
 "nbformat": 4,
 "nbformat_minor": 2
}
