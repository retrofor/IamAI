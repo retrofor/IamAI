{
 "cells": [
  {
   "cell_type": "code",
   "execution_count": 1,
   "metadata": {},
   "outputs": [
    {
     "ename": "NameError",
     "evalue": "name 'qqlib' is not defined",
     "output_type": "error",
     "traceback": [
      "\u001b[1;31m---------------------------------------------------------------------------\u001b[0m",
      "\u001b[1;31mNeedVerifyCode\u001b[0m                            Traceback (most recent call last)",
      "Cell \u001b[1;32mIn[1], line 11\u001b[0m, in \u001b[0;36mlogin\u001b[1;34m(qq)\u001b[0m\n\u001b[0;32m     10\u001b[0m     qq\u001b[39m.\u001b[39mverifier\u001b[39m.\u001b[39mverify(vcode)\n\u001b[1;32m---> 11\u001b[0m qq\u001b[39m.\u001b[39;49mlogin()\n\u001b[0;32m     12\u001b[0m \u001b[39mbreak\u001b[39;00m\n",
      "File \u001b[1;32m~\\AppData\\Local\\Programs\\Python\\Python310\\Lib\\site-packages\\qqlib\\__init__.py:164\u001b[0m, in \u001b[0;36mQQ.login\u001b[1;34m(self, force)\u001b[0m\n\u001b[0;32m    163\u001b[0m     verifier \u001b[39m=\u001b[39m \u001b[39mself\u001b[39m\u001b[39m.\u001b[39mverifier \u001b[39m=\u001b[39m Verifier(\u001b[39mself\u001b[39m)\n\u001b[1;32m--> 164\u001b[0m     verifier\u001b[39m.\u001b[39;49mcheck()\n\u001b[0;32m    165\u001b[0m \u001b[39melse\u001b[39;00m:\n",
      "File \u001b[1;32m~\\AppData\\Local\\Programs\\Python\\Python310\\Lib\\site-packages\\qqlib\\__init__.py:47\u001b[0m, in \u001b[0;36mVerifier.check\u001b[1;34m(self)\u001b[0m\n\u001b[0;32m     46\u001b[0m \u001b[39mif\u001b[39;00m \u001b[39mself\u001b[39m\u001b[39m.\u001b[39mpt_vcode_v1 \u001b[39m==\u001b[39m \u001b[39m'\u001b[39m\u001b[39m1\u001b[39m\u001b[39m'\u001b[39m:\n\u001b[1;32m---> 47\u001b[0m     \u001b[39mself\u001b[39;49m\u001b[39m.\u001b[39;49mthrow()\n\u001b[0;32m     48\u001b[0m \u001b[39melse\u001b[39;00m:\n",
      "File \u001b[1;32m~\\AppData\\Local\\Programs\\Python\\Python310\\Lib\\site-packages\\qqlib\\__init__.py:120\u001b[0m, in \u001b[0;36mVerifier.throw\u001b[1;34m(self, message)\u001b[0m\n\u001b[0;32m    119\u001b[0m \u001b[39mself\u001b[39m\u001b[39m.\u001b[39mneed_verify \u001b[39m=\u001b[39m \u001b[39mTrue\u001b[39;00m\n\u001b[1;32m--> 120\u001b[0m \u001b[39mraise\u001b[39;00m NeedVerifyCode(\u001b[39mself\u001b[39m, message)\n",
      "\u001b[1;31mNeedVerifyCode\u001b[0m: ",
      "\nDuring handling of the above exception, another exception occurred:\n",
      "\u001b[1;31mNameError\u001b[0m                                 Traceback (most recent call last)",
      "Cell \u001b[1;32mIn[1], line 18\u001b[0m\n\u001b[0;32m     16\u001b[0m \u001b[39mfrom\u001b[39;00m \u001b[39mqqlib\u001b[39;00m \u001b[39mimport\u001b[39;00m qzone\n\u001b[0;32m     17\u001b[0m qq \u001b[39m=\u001b[39m qzone\u001b[39m.\u001b[39mQZone(\u001b[39m2753364619\u001b[39m, \u001b[39m'\u001b[39m\u001b[39mCYpreSS.04051929\u001b[39m\u001b[39m'\u001b[39m)\n\u001b[1;32m---> 18\u001b[0m login(qq)\n\u001b[0;32m     19\u001b[0m \u001b[39mprint\u001b[39m(\u001b[39m'\u001b[39m\u001b[39mHi, \u001b[39m\u001b[39m%s\u001b[39;00m\u001b[39m'\u001b[39m \u001b[39m%\u001b[39m qq\u001b[39m.\u001b[39mnick)\n\u001b[0;32m     20\u001b[0m qq\u001b[39m.\u001b[39mfeed(\u001b[39m'\u001b[39m\u001b[39mzzzzzzzzzzzzzzzzzz\u001b[39m\u001b[39m'\u001b[39m)\n",
      "Cell \u001b[1;32mIn[1], line 13\u001b[0m, in \u001b[0;36mlogin\u001b[1;34m(qq)\u001b[0m\n\u001b[0;32m     11\u001b[0m     qq\u001b[39m.\u001b[39mlogin()\n\u001b[0;32m     12\u001b[0m     \u001b[39mbreak\u001b[39;00m\n\u001b[1;32m---> 13\u001b[0m \u001b[39mexcept\u001b[39;00m qqlib\u001b[39m.\u001b[39mNeedVerifyCode \u001b[39mas\u001b[39;00m exc:\n\u001b[0;32m     14\u001b[0m     \u001b[39mif\u001b[39;00m exc\u001b[39m.\u001b[39mmessage:\n\u001b[0;32m     15\u001b[0m         \u001b[39mprint\u001b[39m(\u001b[39m'\u001b[39m\u001b[39mError:\u001b[39m\u001b[39m'\u001b[39m, exc\u001b[39m.\u001b[39mmessage)\n",
      "\u001b[1;31mNameError\u001b[0m: name 'qqlib' is not defined"
     ]
    }
   ],
   "source": []
  }
 ],
 "metadata": {
  "kernelspec": {
   "display_name": "Python 3",
   "language": "python",
   "name": "python3"
  },
  "language_info": {
   "codemirror_mode": {
    "name": "ipython",
    "version": 3
   },
   "file_extension": ".py",
   "mimetype": "text/x-python",
   "name": "python",
   "nbconvert_exporter": "python",
   "pygments_lexer": "ipython3",
   "version": "3.10.7"
  },
  "orig_nbformat": 4
 },
 "nbformat": 4,
 "nbformat_minor": 2
}
